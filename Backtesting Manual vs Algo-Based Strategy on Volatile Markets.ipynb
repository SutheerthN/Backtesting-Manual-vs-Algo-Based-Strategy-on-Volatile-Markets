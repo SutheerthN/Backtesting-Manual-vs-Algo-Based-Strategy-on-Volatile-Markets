# Install yfinance (if you're using Google Colab)
!pip install yfinance --quiet

# Step 1: Import Libraries
import yfinance as yf
import pandas as pd
import matplotlib.pyplot as plt
import numpy as np

# Step 2: Download BTC-USD Historical Data
btc = yf.download("BTC-USD", start="2021-01-01", end="2024-12-31")

# Drop missing data
btc.dropna(inplace=True)

# Step 3: Calculate Technical Indicators
btc['SMA50'] = btc['Close'].rolling(window=50).mean()
btc['SMA200'] = btc['Close'].rolling(window=200).mean()
btc['Volatility'] = btc['Close'].pct_change().rolling(window=7).std()

# Step 4: Manual Strategy – Moving Average Crossover
btc['Manual_Signal'] = 0
btc.loc[btc['SMA50'] > btc['SMA200'], 'Manual_Signal'] = 1
btc.loc[btc['SMA50'] < btc['SMA200'], 'Manual_Signal'] = -1

# Create position column by shifting signal (to simulate acting on next day)
btc['Manual_Position'] = btc['Manual_Signal'].shift(1)

# Step 5: Algo Strategy – Volatility-Based
low_vol_threshold = btc['Volatility'].quantile(0.25)
high_vol_threshold = btc['Volatility'].quantile(0.75)

btc['Algo_Signal'] = 0
btc.loc[btc['Volatility'] < low_vol_threshold, 'Algo_Signal'] = 1
btc.loc[btc['Volatility'] > high_vol_threshold, 'Algo_Signal'] = -1

btc['Algo_Position'] = btc['Algo_Signal'].shift(1)

# Step 6: Calculate Returns from Each Strategy
btc['Daily_Return'] = btc['Close'].pct_change()
btc['Manual_Returns'] = btc['Daily_Return'] * btc['Manual_Position']
btc['Algo_Returns'] = btc['Daily_Return'] * btc['Algo_Position']

btc.dropna(inplace=True)  # Remove initial NaNs from indicators

# Step 7: Compute Cumulative Returns
manual_cum_return = (btc['Manual_Returns'] + 1).cumprod()
algo_cum_return = (btc['Algo_Returns'] + 1).cumprod()

# Step 8: Plot Results
plt.figure(figsize=(12, 6))
plt.plot(btc.index, manual_cum_return, label='Manual Strategy (SMA Crossover)', linewidth=2)
plt.plot(btc.index, algo_cum_return, label='Algo Strategy (Volatility-Based)', linewidth=2)
plt.title('Cumulative Returns: Manual vs Algo Strategy on BTC')
plt.xlabel('Date')
plt.ylabel('Portfolio Value (Normalized)')
plt.grid(True)
plt.legend()
plt.tight_layout()
plt.show()

# Step 9: Print Performance Metrics
def print_metrics(name, returns):
    total = (returns + 1).prod() - 1
    annual = returns.mean() * 252
    sharpe = (returns.mean() / returns.std()) * np.sqrt(252)
    drawdown = (returns.cumsum().cummax() - returns.cumsum()).max()

    print(f"\n📊 {name} Strategy:")
    print(f"Total Return       : {total:.2%}")
    print(f"Annualized Return  : {annual:.2%}")
    print(f"Sharpe Ratio       : {sharpe:.2f}")
    print(f"Max Drawdown       : {drawdown:.2%}")

print_metrics("Manual", btc['Manual_Returns'])
print_metrics("Algo", btc['Algo_Returns'])

import matplotlib.dates as mdates

# ✅ 1. Bitcoin Price with SMA50 and SMA200 (Golden Cross)
plt.figure(figsize=(12, 5))
plt.plot(btc['Close'], label='BTC Price', alpha=0.6)
plt.plot(btc['SMA50'], label='SMA 50', linestyle='--')
plt.plot(btc['SMA200'], label='SMA 200', linestyle='--')
plt.title('BTC Price with SMA50 & SMA200')
plt.xlabel('Date')
plt.ylabel('Price (USD)')
plt.legend()
plt.grid(True)
plt.tight_layout()
plt.show()

# ✅ 2. Bitcoin Volatility Over Time
plt.figure(figsize=(12, 4))
plt.plot(btc['Volatility'], color='orange')
plt.title('7-Day Rolling Volatility of BTC')
plt.xlabel('Date')
plt.ylabel('Volatility')
plt.grid(True)
plt.tight_layout()
plt.show()

# ✅ 3. Cumulative Returns – Manual vs Algo
plt.figure(figsize=(12, 5))
plt.plot((btc['Manual_Returns'] + 1).cumprod(), label='Manual Strategy')
plt.plot((btc['Algo_Returns'] + 1).cumprod(), label='Algo Strategy')
plt.title('Cumulative Returns: Manual vs Algo Strategy')
plt.xlabel('Date')
plt.ylabel('Portfolio Value')
plt.legend()
plt.grid(True)
plt.tight_layout()
plt.show()

# ✅ 4. Manual Strategy Buy/Sell Signal Chart
plt.figure(figsize=(12, 5))
plt.plot(btc['Close'], label='BTC Price', alpha=0.6)
buy_manual = btc[(btc['Manual_Position'] == 1)]
sell_manual = btc[(btc['Manual_Position'] == -1)]
plt.scatter(buy_manual.index, buy_manual['Close'], marker='^', color='green', label='Buy Signal', alpha=0.8)
plt.scatter(sell_manual.index, sell_manual['Close'], marker='v', color='red', label='Sell Signal', alpha=0.8)
plt.title('Manual Strategy Buy/Sell Points')
plt.xlabel('Date')
plt.ylabel('BTC Price (USD)')
plt.legend()
plt.grid(True)
plt.tight_layout()
plt.show()

# ✅ 5. Algo Strategy Buy/Sell Signal Chart
plt.figure(figsize=(12, 5))
plt.plot(btc['Close'], label='BTC Price', alpha=0.6)
buy_algo = btc[(btc['Algo_Position'] == 1)]
sell_algo = btc[(btc['Algo_Position'] == -1)]
plt.scatter(buy_algo.index, buy_algo['Close'], marker='^', color='green', label='Buy Signal', alpha=0.8)
plt.scatter(sell_algo.index, sell_algo['Close'], marker='v', color='red', label='Sell Signal', alpha=0.8)
plt.title('Algo Strategy Buy/Sell Points (Volatility Based)')
plt.xlabel('Date')
plt.ylabel('BTC Price (USD)')
plt.legend()
plt.grid(True)
plt.tight_layout()
plt.show()

# ✅ 6. Drawdown Chart: Manual vs Algo Strategy
btc['Manual_Cumulative'] = (btc['Manual_Returns'] + 1).cumprod()
btc['Manual_Drawdown'] = btc['Manual_Cumulative'] / btc['Manual_Cumulative'].cummax() - 1

btc['Algo_Cumulative'] = (btc['Algo_Returns'] + 1).cumprod()
btc['Algo_Drawdown'] = btc['Algo_Cumulative'] / btc['Algo_Cumulative'].cummax() - 1

plt.figure(figsize=(12, 5))
plt.plot(btc['Manual_Drawdown'], label='Manual Drawdown', color='blue', linestyle='--')
plt.plot(btc['Algo_Drawdown'], label='Algo Drawdown', color='orange', linestyle='--')
plt.title('Maximum Drawdown: Manual vs Algo Strategy')
plt.xlabel('Date')
plt.ylabel('Drawdown (%)')
plt.legend()
plt.grid(True)
plt.tight_layout()
plt.show()
